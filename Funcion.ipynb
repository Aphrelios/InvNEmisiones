{
 "cells": [
  {
   "cell_type": "code",
   "execution_count": 1,
   "metadata": {},
   "outputs": [],
   "source": [
    "import pandas as pd\n"
   ]
  },
  {
   "cell_type": "code",
   "execution_count": 4,
   "metadata": {},
   "outputs": [],
   "source": [
    "def tratamiento(Inv):\n",
    "    fijas = Inv.columns[:6]\n",
    "    gases = Inv.columns[6:]\n",
    "    stack_columns = Inv.set_index(list(fijas)).stack().reset_index()\n",
    "    rename = stack_columns.rename(columns = {\"level_6\": \"Gas\", \"0\": \"Emision\" })\n",
    "    rename[\"Unidades\"] = \"Gg de CO2\"\n",
    "    print(rename)\n",
    "    return"
   ]
  },
  {
   "cell_type": "code",
   "execution_count": 5,
   "metadata": {},
   "outputs": [
    {
     "name": "stdout",
     "output_type": "stream",
     "text": [
      "       Ao                                        Sector IPCC  \\\n",
      "0    1990                                           1 Energa   \n",
      "1    1990                                           1 Energa   \n",
      "2    1990                                           1 Energa   \n",
      "3    1990                                           1 Energa   \n",
      "4    1990                                           1 Energa   \n",
      "..    ...                                                ...   \n",
      "515  1990  Fines informativos (no se suman a las emisione...   \n",
      "516  1990  Fines informativos (no se suman a las emisione...   \n",
      "517  1990  Fines informativos (no se suman a las emisione...   \n",
      "518  1990  Fines informativos (no se suman a las emisione...   \n",
      "519  1990  Fines informativos (no se suman a las emisione...   \n",
      "\n",
      "                              Categoria IPCC            Sub Categora IPCC  \\\n",
      "0    1A Actividades de quema del combustible  1A1 Industrias de la energa   \n",
      "1    1A Actividades de quema del combustible  1A1 Industrias de la energa   \n",
      "2    1A Actividades de quema del combustible  1A1 Industrias de la energa   \n",
      "3    1A Actividades de quema del combustible  1A1 Industrias de la energa   \n",
      "4    1A Actividades de quema del combustible  1A1 Industrias de la energa   \n",
      "..                                       ...                          ...   \n",
      "515                                  Bunkers        Martimo internacional   \n",
      "516    Emisiones de CO2 por quema de biomasa                          NaN   \n",
      "517    Emisiones de CO2 por quema de biomasa                          NaN   \n",
      "518    Emisiones de CO2 por quema de biomasa                          NaN   \n",
      "519    Emisiones de CO2 por quema de biomasa                          NaN   \n",
      "\n",
      "                                           Fuente IPCC Sub Fuente IPCC  Gas  \\\n",
      "0    1A1a Actividad principal produccin de electric...             NaN  CO2   \n",
      "1    1A1a Actividad principal produccin de electric...             NaN  CH4   \n",
      "2    1A1a Actividad principal produccin de electric...             NaN  N2O   \n",
      "3    1A1a Actividad principal produccin de electric...             NaN   CN   \n",
      "4                           1A1b Refinacin del petrleo             NaN  CO2   \n",
      "..                                                 ...             ...  ...   \n",
      "515                                                NaN             NaN   CN   \n",
      "516                                                NaN             NaN  CO2   \n",
      "517                                                NaN             NaN  CH4   \n",
      "518                                                NaN             NaN  N2O   \n",
      "519                                                NaN             NaN   CN   \n",
      "\n",
      "             0   Unidades  \n",
      "0    66,357.38  Gg de CO2  \n",
      "1       60.198  Gg de CO2  \n",
      "2       135.15  Gg de CO2  \n",
      "3       11.119  Gg de CO2  \n",
      "4    11,550.93  Gg de CO2  \n",
      "..         ...        ...  \n",
      "515        0.0  Gg de CO2  \n",
      "516  35,955.86  Gg de CO2  \n",
      "517          0  Gg de CO2  \n",
      "518          0  Gg de CO2  \n",
      "519        0.0  Gg de CO2  \n",
      "\n",
      "[520 rows x 9 columns]\n"
     ]
    }
   ],
   "source": [
    "Inv90 = pd.read_csv(\"./cvs/1990.csv\", encoding = \"UTF-8\", encoding_errors = \"ignore\")\n",
    "\n",
    "tratamiento(Inv90)"
   ]
  }
 ],
 "metadata": {
  "kernelspec": {
   "display_name": "base",
   "language": "python",
   "name": "python3"
  },
  "language_info": {
   "codemirror_mode": {
    "name": "ipython",
    "version": 3
   },
   "file_extension": ".py",
   "mimetype": "text/x-python",
   "name": "python",
   "nbconvert_exporter": "python",
   "pygments_lexer": "ipython3",
   "version": "3.12.7"
  }
 },
 "nbformat": 4,
 "nbformat_minor": 2
}
